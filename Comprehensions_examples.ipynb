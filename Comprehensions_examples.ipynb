{
 "cells": [
  {
   "cell_type": "markdown",
   "id": "fba27c81",
   "metadata": {
    "papermill": {
     "duration": 0.004692,
     "end_time": "2024-08-27T16:45:50.727461",
     "exception": false,
     "start_time": "2024-08-27T16:45:50.722769",
     "status": "completed"
    },
    "tags": []
   },
   "source": [
    "*Comprehensions provide us with a short and concise way to construct new sequences (such as lists, sets, dictionaries)*"
   ]
  },
  {
   "cell_type": "markdown",
   "id": "8a78936d",
   "metadata": {
    "papermill": {
     "duration": 0.003281,
     "end_time": "2024-08-27T16:45:50.734453",
     "exception": false,
     "start_time": "2024-08-27T16:45:50.731172",
     "status": "completed"
    },
    "tags": []
   },
   "source": [
    "***LIST COMPREHENSION EXAMPLE 1***"
   ]
  },
  {
   "cell_type": "code",
   "execution_count": 1,
   "id": "aa9f71ff",
   "metadata": {
    "execution": {
     "iopub.execute_input": "2024-08-27T16:45:50.743347Z",
     "iopub.status.busy": "2024-08-27T16:45:50.742915Z",
     "iopub.status.idle": "2024-08-27T16:45:50.756898Z",
     "shell.execute_reply": "2024-08-27T16:45:50.755760Z"
    },
    "papermill": {
     "duration": 0.021274,
     "end_time": "2024-08-27T16:45:50.759181",
     "exception": false,
     "start_time": "2024-08-27T16:45:50.737907",
     "status": "completed"
    },
    "tags": []
   },
   "outputs": [
    {
     "data": {
      "text/plain": [
       "'\\nIn the following example we are writing a code to split even and odd numbers \\nin total_list to two different lists. '"
      ]
     },
     "execution_count": 1,
     "metadata": {},
     "output_type": "execute_result"
    }
   ],
   "source": [
    "'''\n",
    "In the following example we are writing a code to split even and odd numbers \n",
    "in total_list to two different lists. '''\n",
    "\n",
    "#### with for loops ###\n",
    "\n",
    "#total_list = [2, 13, 18, 93, 22]\n",
    "\n",
    "#even_list = []\n",
    "#odd_list = []\n",
    "\n",
    "#for nums in total_list:\n",
    "#    if nums % 2 == 0:\n",
    "#        even_list.append(nums)\n",
    "#    else:\n",
    "#        odd_list.append(nums)\n",
    "        \n",
    "#print(even_list) ###output: [2, 18, 22]\n",
    "#print(odd_list)  ###output: [13, 93]\n",
    "\n",
    "#### with comprehension ###\n",
    "\n",
    "#even_list = [x for x in total_list if x % 2 == 0]\n",
    "#odd_list = [x for x in total_list if x % 2 != 0]"
   ]
  },
  {
   "cell_type": "markdown",
   "id": "466fd42a",
   "metadata": {
    "papermill": {
     "duration": 0.003471,
     "end_time": "2024-08-27T16:45:50.766504",
     "exception": false,
     "start_time": "2024-08-27T16:45:50.763033",
     "status": "completed"
    },
    "tags": []
   },
   "source": [
    "***LIST COMPREHENSION EXAMPLE 2***"
   ]
  },
  {
   "cell_type": "code",
   "execution_count": 2,
   "id": "198dc004",
   "metadata": {
    "execution": {
     "iopub.execute_input": "2024-08-27T16:45:50.775804Z",
     "iopub.status.busy": "2024-08-27T16:45:50.775379Z",
     "iopub.status.idle": "2024-08-27T16:45:50.781785Z",
     "shell.execute_reply": "2024-08-27T16:45:50.780365Z"
    },
    "papermill": {
     "duration": 0.014009,
     "end_time": "2024-08-27T16:45:50.784253",
     "exception": false,
     "start_time": "2024-08-27T16:45:50.770244",
     "status": "completed"
    },
    "tags": []
   },
   "outputs": [],
   "source": [
    "#salaries = [1000, 2000, 3000, 4000, 5000]\n",
    "\n",
    "##### a function to add 20% raise to the salaries ###\n",
    "\n",
    "#def new_salary(x):\n",
    "#    return x * 20 / 100 + x\n",
    "\n",
    "\n",
    "\n",
    "##################################################### \n",
    "# comprehension examples for different scenarios ###\n",
    "##################################################### \n",
    "\n",
    "## double the salaries ##\n",
    "\n",
    "#c1 = [salary * 2 for salary in salaries] \n",
    "\n",
    "##output: [2000, 4000, 6000, 8000, 10000]\n",
    "\n",
    "\n",
    "\n",
    "## double the salaries below 3000 ##\n",
    "\n",
    "#c2 = [salary * 2 for salary in salaries if salary < 3000] \n",
    "\n",
    "##output: [2000, 4000]\n",
    "\n",
    "\n",
    "\n",
    "## if salary below 3000, double the salaries and give 20% raise, if not, give 20% raise ##\n",
    "\n",
    "#c3 = [new_salary(salary * 2) if salary < 3000 else new_salary(salary) for salary in salaries]\n",
    "\n",
    "##output: [2400.0, 4800.0, 3600.0, 4800.0, 6000]\n",
    "\n",
    "\n",
    "\n",
    "##if salary below 3000, double the salaries and give 20% raise, if not, divide salary by 5, then give 20% raise ##\n",
    "\n",
    "#c4 = [new_salary(salary * 2) if salary < 3000 else new_salary(salary * 0.2) for salary in salaries]\n",
    "\n",
    "##output: [2400.0, 4800.0, 720.0, 960.0, 1200]\n"
   ]
  },
  {
   "cell_type": "markdown",
   "id": "fed39b90",
   "metadata": {
    "papermill": {
     "duration": 0.003466,
     "end_time": "2024-08-27T16:45:50.791567",
     "exception": false,
     "start_time": "2024-08-27T16:45:50.788101",
     "status": "completed"
    },
    "tags": []
   },
   "source": [
    "***LIST COMPREHENSION EXAMPLE 3***"
   ]
  },
  {
   "cell_type": "code",
   "execution_count": 3,
   "id": "d40932c8",
   "metadata": {
    "execution": {
     "iopub.execute_input": "2024-08-27T16:45:50.800653Z",
     "iopub.status.busy": "2024-08-27T16:45:50.800241Z",
     "iopub.status.idle": "2024-08-27T16:45:50.805379Z",
     "shell.execute_reply": "2024-08-27T16:45:50.804178Z"
    },
    "papermill": {
     "duration": 0.012729,
     "end_time": "2024-08-27T16:45:50.807976",
     "exception": false,
     "start_time": "2024-08-27T16:45:50.795247",
     "status": "completed"
    },
    "tags": []
   },
   "outputs": [],
   "source": [
    "#students = [\"John\", \"Mark\", \"Vanessa\", \"Mariam\"]\n",
    "#students_no = [\"John\", \"Vanessa\"]\n",
    "\n",
    "\n",
    "#s1 = [student.lower() if student in students_no else student.upper() for student in students]\n",
    "\n",
    "##output: [\"john\", \"MARK\", \"vanessa\", \"MARIAM\"]\n",
    "\n",
    "\n",
    "\n",
    "#s2 = [student.upper() if student not in students_no else student.upper() for student in students]\n",
    "\n",
    "##output: [\"john\", \"MARK\", \"vanessa\", \"MARIAM\"]"
   ]
  },
  {
   "cell_type": "markdown",
   "id": "50a3ad2b",
   "metadata": {
    "papermill": {
     "duration": 0.003526,
     "end_time": "2024-08-27T16:45:50.815519",
     "exception": false,
     "start_time": "2024-08-27T16:45:50.811993",
     "status": "completed"
    },
    "tags": []
   },
   "source": [
    "****LIST COMPREHENSION EXAMPLE 4****"
   ]
  },
  {
   "cell_type": "code",
   "execution_count": 4,
   "id": "6fcd61a4",
   "metadata": {
    "execution": {
     "iopub.execute_input": "2024-08-27T16:45:50.824475Z",
     "iopub.status.busy": "2024-08-27T16:45:50.824069Z",
     "iopub.status.idle": "2024-08-27T16:45:50.829534Z",
     "shell.execute_reply": "2024-08-27T16:45:50.828283Z"
    },
    "papermill": {
     "duration": 0.012676,
     "end_time": "2024-08-27T16:45:50.831858",
     "exception": false,
     "start_time": "2024-08-27T16:45:50.819182",
     "status": "completed"
    },
    "tags": []
   },
   "outputs": [],
   "source": [
    "#### import libraries for the car_crashes dataset ####\n",
    "\n",
    "#import seaborn as sns\n",
    "#df = sns.load_dataset(\"car_crashes\")\n",
    "\n",
    "#### rename all column names in df to uppercase ####\n",
    "\n",
    "#df.columns = [col.upper() for col in df.columns]\n",
    "\n",
    "#### create a list of new column names with prefix \"NUM_\" for numeric type columns ####\n",
    "\n",
    "#b = [\"NUM_\" + col for col in df.columns if df[col].dtype != \"O\"]\n",
    "\n",
    "#### create a list of column names with \"_FLAG\" for columns -not contain \"NO\" ####\n",
    "\n",
    "# bc = [col + \"_FLAG\" for col in df.columns if \"NO\" not in col]\n",
    "\n",
    "\n",
    "\n",
    "\n",
    "#### create a new dataframe without \"abbrev\" and \"no_previous\" columns ####\n",
    "\n",
    "#keywords = [\"abbrev\", \"no_previous\"]\n",
    "\n",
    "#new_cols = [col for col in df.columns if not any(keyword in col for keyword in keywords)]\n",
    "\n",
    "#new_df = df[new_cols]\n"
   ]
  },
  {
   "cell_type": "markdown",
   "id": "3404d84d",
   "metadata": {
    "papermill": {
     "duration": 0.003465,
     "end_time": "2024-08-27T16:45:50.839113",
     "exception": false,
     "start_time": "2024-08-27T16:45:50.835648",
     "status": "completed"
    },
    "tags": []
   },
   "source": [
    "***DICTIONARY COMPREHENSION EXAMPLE 1***"
   ]
  },
  {
   "cell_type": "code",
   "execution_count": 5,
   "id": "68847f1a",
   "metadata": {
    "execution": {
     "iopub.execute_input": "2024-08-27T16:45:50.848240Z",
     "iopub.status.busy": "2024-08-27T16:45:50.847834Z",
     "iopub.status.idle": "2024-08-27T16:45:50.853314Z",
     "shell.execute_reply": "2024-08-27T16:45:50.852206Z"
    },
    "papermill": {
     "duration": 0.01261,
     "end_time": "2024-08-27T16:45:50.855475",
     "exception": false,
     "start_time": "2024-08-27T16:45:50.842865",
     "status": "completed"
    },
    "tags": []
   },
   "outputs": [],
   "source": [
    "#dict1 = {'a': 1, 'b': 2, 'c': 3, 'd': 4}\n",
    "#dict1.keys()\n",
    "#dict1.values()\n",
    "#dict1.items()\n",
    "\n",
    "### squaring the dictionary values ###\n",
    "\n",
    "#{k: v **2 for (k, v) in dict1.items()}\n",
    "\n",
    "##output: {'a': 1, 'b': 4, 'c': 9, 'd': 16}\n",
    "\n",
    "\n",
    "### uppercase the dictionary keys ###\n",
    "\n",
    "#{k.upper(): v for (k,v) in dict1.items()}\n",
    "\n",
    "##output: {'A': 1, 'B': 2, 'C': 3, 'D': 4}\n",
    "\n",
    "\n",
    "\n",
    "### uppercase the dictionary keys, and multiply values with two ###\n",
    "\n",
    "#{k.upper(): v *2 for (k,v) in dict1.items()}\n",
    "\n",
    "##output: {'A': 2, 'B': 4, 'C': 6, 'D': 8}"
   ]
  },
  {
   "cell_type": "markdown",
   "id": "12637e3f",
   "metadata": {
    "papermill": {
     "duration": 0.003489,
     "end_time": "2024-08-27T16:45:50.862776",
     "exception": false,
     "start_time": "2024-08-27T16:45:50.859287",
     "status": "completed"
    },
    "tags": []
   },
   "source": [
    "***DICTIONARY COMPREHENSION EXAMPLE 2***"
   ]
  },
  {
   "cell_type": "code",
   "execution_count": 6,
   "id": "517ccc7c",
   "metadata": {
    "execution": {
     "iopub.execute_input": "2024-08-27T16:45:50.872475Z",
     "iopub.status.busy": "2024-08-27T16:45:50.871521Z",
     "iopub.status.idle": "2024-08-27T16:45:50.876426Z",
     "shell.execute_reply": "2024-08-27T16:45:50.875435Z"
    },
    "papermill": {
     "duration": 0.012097,
     "end_time": "2024-08-27T16:45:50.878626",
     "exception": false,
     "start_time": "2024-08-27T16:45:50.866529",
     "status": "completed"
    },
    "tags": []
   },
   "outputs": [],
   "source": [
    "#### squaring the even numbers and add to a dictionary ###\n",
    "\n",
    "#numbers = range(10)\n",
    "#new_dict = {}\n",
    "\n",
    "#for nums in numbers:\n",
    "#    if nums % 2 == 0:\n",
    "#        new_dict[nums] = nums ** 2 ##just squaring the values\n",
    "        \n",
    "###output: {0 : 0, 2: 4, 4: 16, 6: 36, 8: 64}\n",
    "\n",
    "\n",
    "##### with comprehension #####\n",
    "\n",
    "#{nums: nums ** 2 for nums in numbers if nums % 2 == 0}"
   ]
  },
  {
   "cell_type": "code",
   "execution_count": null,
   "id": "06d9b1a5",
   "metadata": {
    "papermill": {
     "duration": 0.003527,
     "end_time": "2024-08-27T16:45:50.886103",
     "exception": false,
     "start_time": "2024-08-27T16:45:50.882576",
     "status": "completed"
    },
    "tags": []
   },
   "outputs": [],
   "source": []
  }
 ],
 "metadata": {
  "kaggle": {
   "accelerator": "none",
   "dataSources": [],
   "dockerImageVersionId": 30761,
   "isGpuEnabled": false,
   "isInternetEnabled": false,
   "language": "python",
   "sourceType": "notebook"
  },
  "kernelspec": {
   "display_name": "Python 3",
   "language": "python",
   "name": "python3"
  },
  "language_info": {
   "codemirror_mode": {
    "name": "ipython",
    "version": 3
   },
   "file_extension": ".py",
   "mimetype": "text/x-python",
   "name": "python",
   "nbconvert_exporter": "python",
   "pygments_lexer": "ipython3",
   "version": "3.10.14"
  },
  "papermill": {
   "default_parameters": {},
   "duration": 3.315939,
   "end_time": "2024-08-27T16:45:51.311205",
   "environment_variables": {},
   "exception": null,
   "input_path": "__notebook__.ipynb",
   "output_path": "__notebook__.ipynb",
   "parameters": {},
   "start_time": "2024-08-27T16:45:47.995266",
   "version": "2.6.0"
  }
 },
 "nbformat": 4,
 "nbformat_minor": 5
}
