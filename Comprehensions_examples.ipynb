{
 "cells": [
  {
   "cell_type": "markdown",
   "id": "a40c18ba",
   "metadata": {
    "papermill": {
     "duration": 0.004354,
     "end_time": "2024-08-27T21:18:40.653073",
     "exception": false,
     "start_time": "2024-08-27T21:18:40.648719",
     "status": "completed"
    },
    "tags": []
   },
   "source": [
    "*Comprehensions provide us with a short and concise way to construct new sequences (such as lists, sets, dictionaries)*"
   ]
  },
  {
   "cell_type": "markdown",
   "id": "481f2d5e",
   "metadata": {
    "papermill": {
     "duration": 0.003355,
     "end_time": "2024-08-27T21:18:40.660288",
     "exception": false,
     "start_time": "2024-08-27T21:18:40.656933",
     "status": "completed"
    },
    "tags": []
   },
   "source": [
    "***LIST COMPREHENSION EXAMPLE 1***"
   ]
  },
  {
   "cell_type": "code",
   "execution_count": 1,
   "id": "21926ee8",
   "metadata": {
    "execution": {
     "iopub.execute_input": "2024-08-27T21:18:40.670196Z",
     "iopub.status.busy": "2024-08-27T21:18:40.669067Z",
     "iopub.status.idle": "2024-08-27T21:18:40.683546Z",
     "shell.execute_reply": "2024-08-27T21:18:40.682216Z"
    },
    "papermill": {
     "duration": 0.022009,
     "end_time": "2024-08-27T21:18:40.685910",
     "exception": false,
     "start_time": "2024-08-27T21:18:40.663901",
     "status": "completed"
    },
    "tags": []
   },
   "outputs": [
    {
     "data": {
      "text/plain": [
       "'In the following example we are writing a code to split even and odd numbers \\nin total_list to two different lists. '"
      ]
     },
     "execution_count": 1,
     "metadata": {},
     "output_type": "execute_result"
    }
   ],
   "source": [
    "'''In the following example we are writing a code to split even and odd numbers \n",
    "in total_list to two different lists. '''\n",
    "\n",
    "#### with for loops ###\n",
    "\n",
    "#total_list = [2, 13, 18, 93, 22]\n",
    "\n",
    "#even_list = []\n",
    "#odd_list = []\n",
    "\n",
    "#for nums in total_list:\n",
    "#    if nums % 2 == 0:\n",
    "#        even_list.append(nums)\n",
    "#    else:\n",
    "#        odd_list.append(nums)\n",
    "        \n",
    "#print(even_list) ###output: [2, 18, 22]\n",
    "#print(odd_list)  ###output: [13, 93]\n",
    "\n",
    "#### with comprehension ###\n",
    "\n",
    "#even_list = [x for x in total_list if x % 2 == 0]\n",
    "#odd_list = [x for x in total_list if x % 2 != 0]"
   ]
  },
  {
   "cell_type": "markdown",
   "id": "f720d60c",
   "metadata": {
    "papermill": {
     "duration": 0.003492,
     "end_time": "2024-08-27T21:18:40.693409",
     "exception": false,
     "start_time": "2024-08-27T21:18:40.689917",
     "status": "completed"
    },
    "tags": []
   },
   "source": [
    "***LIST COMPREHENSION EXAMPLE 2***"
   ]
  },
  {
   "cell_type": "code",
   "execution_count": 2,
   "id": "94f82dc1",
   "metadata": {
    "execution": {
     "iopub.execute_input": "2024-08-27T21:18:40.702737Z",
     "iopub.status.busy": "2024-08-27T21:18:40.702342Z",
     "iopub.status.idle": "2024-08-27T21:18:40.708288Z",
     "shell.execute_reply": "2024-08-27T21:18:40.707001Z"
    },
    "papermill": {
     "duration": 0.013347,
     "end_time": "2024-08-27T21:18:40.710551",
     "exception": false,
     "start_time": "2024-08-27T21:18:40.697204",
     "status": "completed"
    },
    "tags": []
   },
   "outputs": [],
   "source": [
    "#salaries = [1000, 2000, 3000, 4000, 5000]\n",
    "\n",
    "##### a function to add 20% raise to the salaries ###\n",
    "\n",
    "#def new_salary(x):\n",
    "#    return x * 20 / 100 + x\n",
    "\n",
    "\n",
    "\n",
    "##################################################### \n",
    "# comprehension examples for different scenarios ###\n",
    "##################################################### \n",
    "\n",
    "## double the salaries ##\n",
    "\n",
    "#c1 = [salary * 2 for salary in salaries] \n",
    "\n",
    "##output: [2000, 4000, 6000, 8000, 10000]\n",
    "\n",
    "\n",
    "\n",
    "## double the salaries below 3000 ##\n",
    "\n",
    "#c2 = [salary * 2 for salary in salaries if salary < 3000] \n",
    "\n",
    "##output: [2000, 4000]\n",
    "\n",
    "\n",
    "\n",
    "## if salary below 3000, double the salaries and give 20% raise, if not, give 20% raise ##\n",
    "\n",
    "#c3 = [new_salary(salary * 2) if salary < 3000 else new_salary(salary) for salary in salaries]\n",
    "\n",
    "##output: [2400.0, 4800.0, 3600.0, 4800.0, 6000]\n",
    "\n",
    "\n",
    "\n",
    "##if salary below 3000, double the salaries and give 20% raise, if not, divide salary by 5, then give 20% raise ##\n",
    "\n",
    "#c4 = [new_salary(salary * 2) if salary < 3000 else new_salary(salary * 0.2) for salary in salaries]\n",
    "\n",
    "##output: [2400.0, 4800.0, 720.0, 960.0, 1200]\n"
   ]
  },
  {
   "cell_type": "markdown",
   "id": "67e35ec9",
   "metadata": {
    "papermill": {
     "duration": 0.003542,
     "end_time": "2024-08-27T21:18:40.718125",
     "exception": false,
     "start_time": "2024-08-27T21:18:40.714583",
     "status": "completed"
    },
    "tags": []
   },
   "source": [
    "***LIST COMPREHENSION EXAMPLE 3***"
   ]
  },
  {
   "cell_type": "code",
   "execution_count": 3,
   "id": "9ab5c641",
   "metadata": {
    "execution": {
     "iopub.execute_input": "2024-08-27T21:18:40.727714Z",
     "iopub.status.busy": "2024-08-27T21:18:40.726963Z",
     "iopub.status.idle": "2024-08-27T21:18:40.731647Z",
     "shell.execute_reply": "2024-08-27T21:18:40.730569Z"
    },
    "papermill": {
     "duration": 0.012043,
     "end_time": "2024-08-27T21:18:40.734017",
     "exception": false,
     "start_time": "2024-08-27T21:18:40.721974",
     "status": "completed"
    },
    "tags": []
   },
   "outputs": [],
   "source": [
    "#students = [\"John\", \"Mark\", \"Vanessa\", \"Mariam\"]\n",
    "#students_no = [\"John\", \"Vanessa\"]\n",
    "\n",
    "\n",
    "#s1 = [student.lower() if student in students_no else student.upper() for student in students]\n",
    "\n",
    "##output: [\"john\", \"MARK\", \"vanessa\", \"MARIAM\"]\n",
    "\n",
    "\n",
    "\n",
    "#s2 = [student.upper() if student not in students_no else student.upper() for student in students]\n",
    "\n",
    "##output: [\"john\", \"MARK\", \"vanessa\", \"MARIAM\"]"
   ]
  },
  {
   "cell_type": "markdown",
   "id": "89906673",
   "metadata": {
    "papermill": {
     "duration": 0.0035,
     "end_time": "2024-08-27T21:18:40.741578",
     "exception": false,
     "start_time": "2024-08-27T21:18:40.738078",
     "status": "completed"
    },
    "tags": []
   },
   "source": [
    "****LIST COMPREHENSION EXAMPLE 4****"
   ]
  },
  {
   "cell_type": "code",
   "execution_count": 4,
   "id": "528893e5",
   "metadata": {
    "execution": {
     "iopub.execute_input": "2024-08-27T21:18:40.750794Z",
     "iopub.status.busy": "2024-08-27T21:18:40.750393Z",
     "iopub.status.idle": "2024-08-27T21:18:40.756375Z",
     "shell.execute_reply": "2024-08-27T21:18:40.755349Z"
    },
    "papermill": {
     "duration": 0.013647,
     "end_time": "2024-08-27T21:18:40.758939",
     "exception": false,
     "start_time": "2024-08-27T21:18:40.745292",
     "status": "completed"
    },
    "tags": []
   },
   "outputs": [],
   "source": [
    "#### import libraries for the car_crashes dataset ####\n",
    "\n",
    "#import seaborn as sns\n",
    "#import pandas as pd\n",
    "\n",
    "#### extra adjustments ##########\n",
    "\n",
    "#pd.set_option('display.max_rows', None)\n",
    "#pd.set_option('display.max_columns', None)\n",
    "#pd.set_option('display.width', 500)\n",
    "\n",
    "\n",
    "#### loading dataset to a dataframe ##########\n",
    "\n",
    "#df = sns.load_dataset(\"car_crashes\")\n",
    "\n",
    "#### checking df's columns and getting df information ##########\n",
    "\n",
    "#df.columns\n",
    "#df.info()\n",
    "\n",
    "#### change columns names to uppercase if the variable is numeric ####\n",
    "\n",
    "#b = [\"NUM_\" + col.upper() if df[col].dtype != \"O\" else col.upper() for col in df.columns] \n",
    "\n",
    "#### second way\n",
    "\n",
    "#b = [\"NUM_\" + col.upper() if df[col].dtype in [int, float] else col.upper() for col in df.columns]\n",
    "\n",
    "\n",
    "\n",
    "\n",
    "#### create a list of column names end with \"_FLAG\" for columns that are not contain \"NO\" ####\n",
    "\n",
    "# bc = [col.upper() + \"_FLAG\" for col in df.columns if \"no\" not in col]\n",
    "\n",
    "#### second way\n",
    "\n",
    "#bc = [col.upper() + \"_FLAG\" if \"no\" not in col else col.upper() for col in df.columns ]\n",
    "\n",
    "\n",
    "\n",
    "####### create a new dataframe without \"abbrev\" and \"no_previous\" columns #######\n",
    "\n",
    "#keywords = [\"abbrev\", \"no_previous\"]\n",
    "\n",
    "#new_cols = [col for col in df.columns if not any(keyword in col for keyword in keywords)]\n",
    "\n",
    "#new_df = df[new_cols]\n",
    "\n",
    "#new_df.head() ##outputs the first 5 rows\n",
    "\n",
    "\n",
    "\n",
    "#### second way\n",
    "\n",
    "#keywords = [\"abbrev\", \"no_previous\"]\n",
    "\n",
    "#new_cols = [col for col in df.columns if col not in keywords]\n",
    "\n",
    "#new_df = df[new_cols]\n",
    "\n",
    "#new_df.head() ##outputs the first 5 rows\n"
   ]
  },
  {
   "cell_type": "markdown",
   "id": "4ce648e9",
   "metadata": {
    "papermill": {
     "duration": 0.003723,
     "end_time": "2024-08-27T21:18:40.766687",
     "exception": false,
     "start_time": "2024-08-27T21:18:40.762964",
     "status": "completed"
    },
    "tags": []
   },
   "source": [
    "***DICTIONARY COMPREHENSION EXAMPLE 1***"
   ]
  },
  {
   "cell_type": "code",
   "execution_count": 5,
   "id": "f7cdc557",
   "metadata": {
    "execution": {
     "iopub.execute_input": "2024-08-27T21:18:40.776029Z",
     "iopub.status.busy": "2024-08-27T21:18:40.775624Z",
     "iopub.status.idle": "2024-08-27T21:18:40.780674Z",
     "shell.execute_reply": "2024-08-27T21:18:40.779552Z"
    },
    "papermill": {
     "duration": 0.012592,
     "end_time": "2024-08-27T21:18:40.783076",
     "exception": false,
     "start_time": "2024-08-27T21:18:40.770484",
     "status": "completed"
    },
    "tags": []
   },
   "outputs": [],
   "source": [
    "#dict1 = {'a': 1, 'b': 2, 'c': 3, 'd': 4}\n",
    "#dict1.keys()\n",
    "#dict1.values()\n",
    "#dict1.items()\n",
    "\n",
    "### squaring the dictionary values ###\n",
    "\n",
    "#{k: v **2 for (k, v) in dict1.items()}\n",
    "\n",
    "##output: {'a': 1, 'b': 4, 'c': 9, 'd': 16}\n",
    "\n",
    "\n",
    "### uppercase the dictionary keys ###\n",
    "\n",
    "#{k.upper(): v for (k,v) in dict1.items()}\n",
    "\n",
    "##output: {'A': 1, 'B': 2, 'C': 3, 'D': 4}\n",
    "\n",
    "\n",
    "\n",
    "### uppercase the dictionary keys, and multiply values with two ###\n",
    "\n",
    "#{k.upper(): v *2 for (k,v) in dict1.items()}\n",
    "\n",
    "##output: {'A': 2, 'B': 4, 'C': 6, 'D': 8}"
   ]
  },
  {
   "cell_type": "markdown",
   "id": "9dc42725",
   "metadata": {
    "papermill": {
     "duration": 0.003476,
     "end_time": "2024-08-27T21:18:40.790596",
     "exception": false,
     "start_time": "2024-08-27T21:18:40.787120",
     "status": "completed"
    },
    "tags": []
   },
   "source": [
    "***DICTIONARY COMPREHENSION EXAMPLE 2***"
   ]
  },
  {
   "cell_type": "code",
   "execution_count": 6,
   "id": "7bcfbd2c",
   "metadata": {
    "execution": {
     "iopub.execute_input": "2024-08-27T21:18:40.799628Z",
     "iopub.status.busy": "2024-08-27T21:18:40.799228Z",
     "iopub.status.idle": "2024-08-27T21:18:40.804204Z",
     "shell.execute_reply": "2024-08-27T21:18:40.803024Z"
    },
    "papermill": {
     "duration": 0.012244,
     "end_time": "2024-08-27T21:18:40.806610",
     "exception": false,
     "start_time": "2024-08-27T21:18:40.794366",
     "status": "completed"
    },
    "tags": []
   },
   "outputs": [],
   "source": [
    "#### squaring the even numbers and add to a dictionary ###\n",
    "\n",
    "#numbers = range(10)\n",
    "#new_dict = {}\n",
    "\n",
    "#for nums in numbers:\n",
    "#    if nums % 2 == 0:\n",
    "#        new_dict[nums] = nums ** 2 ##just squaring the values\n",
    "        \n",
    "###output: {0 : 0, 2: 4, 4: 16, 6: 36, 8: 64}\n",
    "\n",
    "\n",
    "##### with comprehension #####\n",
    "\n",
    "#{nums: nums ** 2 for nums in numbers if nums % 2 == 0}"
   ]
  },
  {
   "cell_type": "code",
   "execution_count": null,
   "id": "3751f22b",
   "metadata": {
    "papermill": {
     "duration": 0.003441,
     "end_time": "2024-08-27T21:18:40.813850",
     "exception": false,
     "start_time": "2024-08-27T21:18:40.810409",
     "status": "completed"
    },
    "tags": []
   },
   "outputs": [],
   "source": []
  }
 ],
 "metadata": {
  "kaggle": {
   "accelerator": "none",
   "dataSources": [],
   "dockerImageVersionId": 30761,
   "isGpuEnabled": false,
   "isInternetEnabled": false,
   "language": "python",
   "sourceType": "notebook"
  },
  "kernelspec": {
   "display_name": "Python 3",
   "language": "python",
   "name": "python3"
  },
  "language_info": {
   "codemirror_mode": {
    "name": "ipython",
    "version": 3
   },
   "file_extension": ".py",
   "mimetype": "text/x-python",
   "name": "python",
   "nbconvert_exporter": "python",
   "pygments_lexer": "ipython3",
   "version": "3.10.14"
  },
  "papermill": {
   "default_parameters": {},
   "duration": 3.348679,
   "end_time": "2024-08-27T21:18:41.238291",
   "environment_variables": {},
   "exception": null,
   "input_path": "__notebook__.ipynb",
   "output_path": "__notebook__.ipynb",
   "parameters": {},
   "start_time": "2024-08-27T21:18:37.889612",
   "version": "2.6.0"
  }
 },
 "nbformat": 4,
 "nbformat_minor": 5
}
