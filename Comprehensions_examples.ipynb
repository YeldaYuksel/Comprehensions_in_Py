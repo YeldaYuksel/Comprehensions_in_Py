{
 "cells": [
  {
   "cell_type": "markdown",
   "id": "75b4c818",
   "metadata": {
    "papermill": {
     "duration": 0.004153,
     "end_time": "2024-09-11T12:28:56.393142",
     "exception": false,
     "start_time": "2024-09-11T12:28:56.388989",
     "status": "completed"
    },
    "tags": []
   },
   "source": [
    "*Comprehensions provide us with a short and concise way to construct new sequences (such as lists, sets, dictionaries)*"
   ]
  },
  {
   "cell_type": "markdown",
   "id": "277267b8",
   "metadata": {
    "papermill": {
     "duration": 0.00316,
     "end_time": "2024-09-11T12:28:56.399979",
     "exception": false,
     "start_time": "2024-09-11T12:28:56.396819",
     "status": "completed"
    },
    "tags": []
   },
   "source": [
    "***LIST COMPREHENSION EXAMPLE 1***"
   ]
  },
  {
   "cell_type": "code",
   "execution_count": 1,
   "id": "f6609902",
   "metadata": {
    "execution": {
     "iopub.execute_input": "2024-09-11T12:28:56.408562Z",
     "iopub.status.busy": "2024-09-11T12:28:56.408146Z",
     "iopub.status.idle": "2024-09-11T12:28:56.421752Z",
     "shell.execute_reply": "2024-09-11T12:28:56.420543Z"
    },
    "papermill": {
     "duration": 0.020565,
     "end_time": "2024-09-11T12:28:56.423992",
     "exception": false,
     "start_time": "2024-09-11T12:28:56.403427",
     "status": "completed"
    },
    "tags": []
   },
   "outputs": [
    {
     "name": "stdout",
     "output_type": "stream",
     "text": [
      "[2, 18, 22]\n",
      "[13, 93]\n"
     ]
    }
   ],
   "source": [
    "'''In the following example we are writing a code to split even and odd numbers \n",
    "in total_list to two different lists. '''\n",
    "\n",
    "#### with for loops ###\n",
    "\n",
    "total_list = [2, 13, 18, 93, 22]\n",
    "\n",
    "even_list = []\n",
    "odd_list = []\n",
    "\n",
    "for nums in total_list:\n",
    "    if nums % 2 == 0:\n",
    "        even_list.append(nums)\n",
    "    else:\n",
    "        odd_list.append(nums)\n",
    "        \n",
    "print(even_list) ###output: [2, 18, 22]\n",
    "print(odd_list)  ###output: [13, 93]\n",
    "\n",
    "#### with comprehension ###\n",
    "\n",
    "even_list = [x for x in total_list if x % 2 == 0]\n",
    "odd_list = [x for x in total_list if x % 2 != 0]"
   ]
  },
  {
   "cell_type": "markdown",
   "id": "447dc4d4",
   "metadata": {
    "papermill": {
     "duration": 0.004179,
     "end_time": "2024-09-11T12:28:56.431959",
     "exception": false,
     "start_time": "2024-09-11T12:28:56.427780",
     "status": "completed"
    },
    "tags": []
   },
   "source": [
    "***LIST COMPREHENSION EXAMPLE 2***"
   ]
  },
  {
   "cell_type": "code",
   "execution_count": 2,
   "id": "cbd06718",
   "metadata": {
    "execution": {
     "iopub.execute_input": "2024-09-11T12:28:56.441608Z",
     "iopub.status.busy": "2024-09-11T12:28:56.440684Z",
     "iopub.status.idle": "2024-09-11T12:28:56.449390Z",
     "shell.execute_reply": "2024-09-11T12:28:56.448325Z"
    },
    "papermill": {
     "duration": 0.015935,
     "end_time": "2024-09-11T12:28:56.451634",
     "exception": false,
     "start_time": "2024-09-11T12:28:56.435699",
     "status": "completed"
    },
    "tags": []
   },
   "outputs": [
    {
     "name": "stdout",
     "output_type": "stream",
     "text": [
      "[2000, 4000, 6000, 8000, 10000]\n",
      "[2000, 4000]\n",
      "[2400.0, 4800.0, 3600.0, 4800.0, 6000.0]\n",
      "[2400.0, 4800.0, 720.0, 960.0, 1200.0]\n"
     ]
    }
   ],
   "source": [
    "salaries = [1000, 2000, 3000, 4000, 5000]\n",
    "\n",
    "##### a function to add 20% raise to the salaries ###\n",
    "\n",
    "def new_salary(x):\n",
    "    return x * 20 / 100 + x\n",
    "\n",
    "\n",
    "\n",
    "##################################################### \n",
    "# comprehension examples for different scenarios ###\n",
    "##################################################### \n",
    "\n",
    "## double the salaries ##\n",
    "\n",
    "c1 = [salary * 2 for salary in salaries] \n",
    "print(c1)\n",
    "\n",
    "##output: [2000, 4000, 6000, 8000, 10000]\n",
    "\n",
    "\n",
    "\n",
    "## double the salaries below 3000 ##\n",
    "\n",
    "c2 = [salary * 2 for salary in salaries if salary < 3000]\n",
    "print(c2)\n",
    "\n",
    "##output: [2000, 4000]\n",
    "\n",
    "\n",
    "\n",
    "## if salary below 3000, double the salaries and give 20% raise, if not, give 20% raise ##\n",
    "\n",
    "c3 = [new_salary(salary * 2) if salary < 3000 else new_salary(salary) for salary in salaries]\n",
    "print(c3)\n",
    "\n",
    "##output: [2400.0, 4800.0, 3600.0, 4800.0, 6000]\n",
    "\n",
    "\n",
    "\n",
    "##if salary below 3000, double the salaries and give 20% raise, if not, divide salary by 5, then give 20% raise ##\n",
    "\n",
    "c4 = [new_salary(salary * 2) if salary < 3000 else new_salary(salary * 0.2) for salary in salaries]\n",
    "print(c4)\n",
    "\n",
    "##output: [2400.0, 4800.0, 720.0, 960.0, 1200]\n"
   ]
  },
  {
   "cell_type": "markdown",
   "id": "f218ce8d",
   "metadata": {
    "papermill": {
     "duration": 0.003329,
     "end_time": "2024-09-11T12:28:56.458652",
     "exception": false,
     "start_time": "2024-09-11T12:28:56.455323",
     "status": "completed"
    },
    "tags": []
   },
   "source": [
    "***LIST COMPREHENSION EXAMPLE 3***"
   ]
  },
  {
   "cell_type": "code",
   "execution_count": 3,
   "id": "1f65f110",
   "metadata": {
    "execution": {
     "iopub.execute_input": "2024-09-11T12:28:56.467739Z",
     "iopub.status.busy": "2024-09-11T12:28:56.466927Z",
     "iopub.status.idle": "2024-09-11T12:28:56.473821Z",
     "shell.execute_reply": "2024-09-11T12:28:56.472688Z"
    },
    "papermill": {
     "duration": 0.014101,
     "end_time": "2024-09-11T12:28:56.476289",
     "exception": false,
     "start_time": "2024-09-11T12:28:56.462188",
     "status": "completed"
    },
    "tags": []
   },
   "outputs": [
    {
     "name": "stdout",
     "output_type": "stream",
     "text": [
      "['john', 'MARK', 'vanessa', 'MARIAM']\n",
      "['JOHN', 'MARK', 'VANESSA', 'MARIAM']\n"
     ]
    }
   ],
   "source": [
    "students = [\"John\", \"Mark\", \"Vanessa\", \"Mariam\"]\n",
    "students_no = [\"John\", \"Vanessa\"]\n",
    "\n",
    "\n",
    "s1 = [student.lower() if student in students_no else student.upper() for student in students]\n",
    "print(s1)\n",
    "\n",
    "##output: [\"john\", \"MARK\", \"vanessa\", \"MARIAM\"]\n",
    "\n",
    "\n",
    "\n",
    "s2 = [student.upper() if student not in students_no else student.upper() for student in students]\n",
    "print(s2)\n",
    "\n",
    "##output: [\"john\", \"MARK\", \"vanessa\", \"MARIAM\"]"
   ]
  },
  {
   "cell_type": "markdown",
   "id": "c1479c9f",
   "metadata": {
    "papermill": {
     "duration": 0.003427,
     "end_time": "2024-09-11T12:28:56.483595",
     "exception": false,
     "start_time": "2024-09-11T12:28:56.480168",
     "status": "completed"
    },
    "tags": []
   },
   "source": [
    "****LIST COMPREHENSION EXAMPLE 4****"
   ]
  },
  {
   "cell_type": "code",
   "execution_count": 4,
   "id": "af38c114",
   "metadata": {
    "execution": {
     "iopub.execute_input": "2024-09-11T12:28:56.492538Z",
     "iopub.status.busy": "2024-09-11T12:28:56.492136Z",
     "iopub.status.idle": "2024-09-11T12:28:58.522344Z",
     "shell.execute_reply": "2024-09-11T12:28:58.521206Z"
    },
    "papermill": {
     "duration": 2.037578,
     "end_time": "2024-09-11T12:28:58.524804",
     "exception": false,
     "start_time": "2024-09-11T12:28:56.487226",
     "status": "completed"
    },
    "tags": []
   },
   "outputs": [
    {
     "name": "stdout",
     "output_type": "stream",
     "text": [
      "<class 'pandas.core.frame.DataFrame'>\n",
      "RangeIndex: 51 entries, 0 to 50\n",
      "Data columns (total 8 columns):\n",
      " #   Column          Non-Null Count  Dtype  \n",
      "---  ------          --------------  -----  \n",
      " 0   total           51 non-null     float64\n",
      " 1   speeding        51 non-null     float64\n",
      " 2   alcohol         51 non-null     float64\n",
      " 3   not_distracted  51 non-null     float64\n",
      " 4   no_previous     51 non-null     float64\n",
      " 5   ins_premium     51 non-null     float64\n",
      " 6   ins_losses      51 non-null     float64\n",
      " 7   abbrev          51 non-null     object \n",
      "dtypes: float64(7), object(1)\n",
      "memory usage: 3.3+ KB\n",
      "['NUM_TOTAL', 'NUM_SPEEDING', 'NUM_ALCOHOL', 'NUM_NOT_DISTRACTED', 'NUM_NO_PREVIOUS', 'NUM_INS_PREMIUM', 'NUM_INS_LOSSES', 'ABBREV']\n",
      "['TOTAL_FLAG', 'SPEEDING_FLAG', 'ALCOHOL_FLAG', 'INS_PREMIUM_FLAG', 'INS_LOSSES_FLAG', 'ABBREV_FLAG']\n"
     ]
    },
    {
     "data": {
      "text/html": [
       "<div>\n",
       "<style scoped>\n",
       "    .dataframe tbody tr th:only-of-type {\n",
       "        vertical-align: middle;\n",
       "    }\n",
       "\n",
       "    .dataframe tbody tr th {\n",
       "        vertical-align: top;\n",
       "    }\n",
       "\n",
       "    .dataframe thead th {\n",
       "        text-align: right;\n",
       "    }\n",
       "</style>\n",
       "<table border=\"1\" class=\"dataframe\">\n",
       "  <thead>\n",
       "    <tr style=\"text-align: right;\">\n",
       "      <th></th>\n",
       "      <th>total</th>\n",
       "      <th>speeding</th>\n",
       "      <th>alcohol</th>\n",
       "      <th>not_distracted</th>\n",
       "      <th>ins_premium</th>\n",
       "      <th>ins_losses</th>\n",
       "    </tr>\n",
       "  </thead>\n",
       "  <tbody>\n",
       "    <tr>\n",
       "      <th>0</th>\n",
       "      <td>18.8</td>\n",
       "      <td>7.332</td>\n",
       "      <td>5.640</td>\n",
       "      <td>18.048</td>\n",
       "      <td>784.55</td>\n",
       "      <td>145.08</td>\n",
       "    </tr>\n",
       "    <tr>\n",
       "      <th>1</th>\n",
       "      <td>18.1</td>\n",
       "      <td>7.421</td>\n",
       "      <td>4.525</td>\n",
       "      <td>16.290</td>\n",
       "      <td>1053.48</td>\n",
       "      <td>133.93</td>\n",
       "    </tr>\n",
       "    <tr>\n",
       "      <th>2</th>\n",
       "      <td>18.6</td>\n",
       "      <td>6.510</td>\n",
       "      <td>5.208</td>\n",
       "      <td>15.624</td>\n",
       "      <td>899.47</td>\n",
       "      <td>110.35</td>\n",
       "    </tr>\n",
       "    <tr>\n",
       "      <th>3</th>\n",
       "      <td>22.4</td>\n",
       "      <td>4.032</td>\n",
       "      <td>5.824</td>\n",
       "      <td>21.056</td>\n",
       "      <td>827.34</td>\n",
       "      <td>142.39</td>\n",
       "    </tr>\n",
       "    <tr>\n",
       "      <th>4</th>\n",
       "      <td>12.0</td>\n",
       "      <td>4.200</td>\n",
       "      <td>3.360</td>\n",
       "      <td>10.920</td>\n",
       "      <td>878.41</td>\n",
       "      <td>165.63</td>\n",
       "    </tr>\n",
       "  </tbody>\n",
       "</table>\n",
       "</div>"
      ],
      "text/plain": [
       "   total  speeding  alcohol  not_distracted  ins_premium  ins_losses\n",
       "0   18.8     7.332    5.640          18.048       784.55      145.08\n",
       "1   18.1     7.421    4.525          16.290      1053.48      133.93\n",
       "2   18.6     6.510    5.208          15.624       899.47      110.35\n",
       "3   22.4     4.032    5.824          21.056       827.34      142.39\n",
       "4   12.0     4.200    3.360          10.920       878.41      165.63"
      ]
     },
     "execution_count": 4,
     "metadata": {},
     "output_type": "execute_result"
    }
   ],
   "source": [
    "#### import libraries for the car_crashes dataset ####\n",
    "\n",
    "import seaborn as sns\n",
    "import pandas as pd\n",
    "\n",
    "#### extra adjustments ##########\n",
    "\n",
    "pd.set_option('display.max_rows', None)\n",
    "pd.set_option('display.max_columns', None)\n",
    "pd.set_option('display.width', 500)\n",
    "\n",
    "\n",
    "#### loading dataset to a dataframe ##########\n",
    "\n",
    "#df = sns.load_dataset(\"car_crashes\")\n",
    "df = pd.read_csv('/kaggle/input/seaborn-car-crashes/car_crashes.csv')\n",
    "\n",
    "#### checking df's columns and getting df information ##########\n",
    "\n",
    "df.columns\n",
    "df.info()\n",
    "\n",
    "#### change columns names to uppercase if the variable is numeric ####\n",
    "\n",
    "b = [\"NUM_\" + col.upper() if df[col].dtype != \"O\" else col.upper() for col in df.columns] \n",
    "print(b)\n",
    "\n",
    "#### second way\n",
    "\n",
    "b = [\"NUM_\" + col.upper() if df[col].dtype in [int, float] else col.upper() for col in df.columns]\n",
    "\n",
    "\n",
    "\n",
    "\n",
    "#### create a list of column names end with \"_FLAG\" for columns that are not contain \"NO\" ####\n",
    "\n",
    "bc = [col.upper() + \"_FLAG\" for col in df.columns if \"no\" not in col]\n",
    "print(bc)\n",
    "\n",
    "#### second way\n",
    "\n",
    "bc = [col.upper() + \"_FLAG\" if \"no\" not in col else col.upper() for col in df.columns ]\n",
    "\n",
    "\n",
    "\n",
    "####### create a new dataframe without \"abbrev\" and \"no_previous\" columns #######\n",
    "\n",
    "keywords = [\"abbrev\", \"no_previous\"]\n",
    "\n",
    "new_cols = [col for col in df.columns if not any(keyword in col for keyword in keywords)]\n",
    "\n",
    "new_df = df[new_cols]\n",
    "\n",
    "new_df.head() ##outputs the first 5 rows\n",
    "\n",
    "\n",
    "\n",
    "#### second way\n",
    "\n",
    "keywords = [\"abbrev\", \"no_previous\"]\n",
    "\n",
    "new_cols = [col for col in df.columns if col not in keywords]\n",
    "\n",
    "new_df = df[new_cols]\n",
    "\n",
    "new_df.head() ##outputs the first 5 rows\n"
   ]
  },
  {
   "cell_type": "markdown",
   "id": "b4ad9625",
   "metadata": {
    "papermill": {
     "duration": 0.003872,
     "end_time": "2024-09-11T12:28:58.532834",
     "exception": false,
     "start_time": "2024-09-11T12:28:58.528962",
     "status": "completed"
    },
    "tags": []
   },
   "source": [
    "***DICTIONARY COMPREHENSION EXAMPLE 1***"
   ]
  },
  {
   "cell_type": "code",
   "execution_count": 5,
   "id": "0c5bb729",
   "metadata": {
    "execution": {
     "iopub.execute_input": "2024-09-11T12:28:58.543137Z",
     "iopub.status.busy": "2024-09-11T12:28:58.542246Z",
     "iopub.status.idle": "2024-09-11T12:28:58.550000Z",
     "shell.execute_reply": "2024-09-11T12:28:58.548897Z"
    },
    "papermill": {
     "duration": 0.015904,
     "end_time": "2024-09-11T12:28:58.552750",
     "exception": false,
     "start_time": "2024-09-11T12:28:58.536846",
     "status": "completed"
    },
    "tags": []
   },
   "outputs": [
    {
     "name": "stdout",
     "output_type": "stream",
     "text": [
      "{'a': 1, 'b': 4, 'c': 9, 'd': 16}\n",
      "{'A': 1, 'B': 2, 'C': 3, 'D': 4}\n",
      "{'A': 2, 'B': 4, 'C': 6, 'D': 8}\n"
     ]
    }
   ],
   "source": [
    "dict1 = {'a': 1, 'b': 2, 'c': 3, 'd': 4}\n",
    "dict1.keys()\n",
    "dict1.values()\n",
    "dict1.items()\n",
    "\n",
    "### squaring the dictionary values ###\n",
    "\n",
    "print({k: v **2 for (k, v) in dict1.items()})\n",
    "\n",
    "##output: {'a': 1, 'b': 4, 'c': 9, 'd': 16}\n",
    "\n",
    "\n",
    "### uppercase the dictionary keys ###\n",
    "\n",
    "print({k.upper(): v for (k,v) in dict1.items()})\n",
    "\n",
    "##output: {'A': 1, 'B': 2, 'C': 3, 'D': 4}\n",
    "\n",
    "\n",
    "\n",
    "### uppercase the dictionary keys, and multiply values with two ###\n",
    "\n",
    "print({k.upper(): v *2 for (k,v) in dict1.items()})\n",
    "\n",
    "##output: {'A': 2, 'B': 4, 'C': 6, 'D': 8}"
   ]
  },
  {
   "cell_type": "markdown",
   "id": "4e30b94b",
   "metadata": {
    "papermill": {
     "duration": 0.003801,
     "end_time": "2024-09-11T12:28:58.560837",
     "exception": false,
     "start_time": "2024-09-11T12:28:58.557036",
     "status": "completed"
    },
    "tags": []
   },
   "source": [
    "***DICTIONARY COMPREHENSION EXAMPLE 2***"
   ]
  },
  {
   "cell_type": "code",
   "execution_count": 6,
   "id": "c2632b9d",
   "metadata": {
    "execution": {
     "iopub.execute_input": "2024-09-11T12:28:58.570813Z",
     "iopub.status.busy": "2024-09-11T12:28:58.570443Z",
     "iopub.status.idle": "2024-09-11T12:28:58.578664Z",
     "shell.execute_reply": "2024-09-11T12:28:58.577542Z"
    },
    "papermill": {
     "duration": 0.015719,
     "end_time": "2024-09-11T12:28:58.580789",
     "exception": false,
     "start_time": "2024-09-11T12:28:58.565070",
     "status": "completed"
    },
    "tags": []
   },
   "outputs": [
    {
     "data": {
      "text/plain": [
       "{0: 0, 2: 4, 4: 16, 6: 36, 8: 64}"
      ]
     },
     "execution_count": 6,
     "metadata": {},
     "output_type": "execute_result"
    }
   ],
   "source": [
    "#### squaring the even numbers and add to a dictionary ###\n",
    "\n",
    "numbers = range(10)\n",
    "new_dict = {}\n",
    "\n",
    "for nums in numbers:\n",
    "    if nums % 2 == 0:\n",
    "        new_dict[nums] = nums ** 2 ##just squaring the values\n",
    "        \n",
    "###output: {0 : 0, 2: 4, 4: 16, 6: 36, 8: 64}\n",
    "\n",
    "\n",
    "##### with comprehension #####\n",
    "\n",
    "{nums: nums ** 2 for nums in numbers if nums % 2 == 0}"
   ]
  }
 ],
 "metadata": {
  "kaggle": {
   "accelerator": "none",
   "dataSources": [
    {
     "datasetId": 5680455,
     "sourceId": 9367125,
     "sourceType": "datasetVersion"
    }
   ],
   "dockerImageVersionId": 30761,
   "isGpuEnabled": false,
   "isInternetEnabled": false,
   "language": "python",
   "sourceType": "notebook"
  },
  "kernelspec": {
   "display_name": "Python 3",
   "language": "python",
   "name": "python3"
  },
  "language_info": {
   "codemirror_mode": {
    "name": "ipython",
    "version": 3
   },
   "file_extension": ".py",
   "mimetype": "text/x-python",
   "name": "python",
   "nbconvert_exporter": "python",
   "pygments_lexer": "ipython3",
   "version": "3.10.14"
  },
  "papermill": {
   "default_parameters": {},
   "duration": 5.560345,
   "end_time": "2024-09-11T12:28:59.205902",
   "environment_variables": {},
   "exception": null,
   "input_path": "__notebook__.ipynb",
   "output_path": "__notebook__.ipynb",
   "parameters": {},
   "start_time": "2024-09-11T12:28:53.645557",
   "version": "2.6.0"
  }
 },
 "nbformat": 4,
 "nbformat_minor": 5
}
